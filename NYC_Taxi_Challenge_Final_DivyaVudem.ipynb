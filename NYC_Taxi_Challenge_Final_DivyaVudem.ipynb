{
 "cells": [
  {
   "cell_type": "markdown",
   "metadata": {},
   "source": [
    "#                                 NYC Taxi Challenge "
   ]
  },
  {
   "cell_type": "code",
   "execution_count": 1,
   "metadata": {
    "collapsed": true
   },
   "outputs": [],
   "source": [
    "import pandas as pd\n",
    "from collections import defaultdict\n",
    "import numpy as np\n",
    "import matplotlib.pyplot as plt\n",
    "%matplotlib inline"
   ]
  },
  {
   "cell_type": "markdown",
   "metadata": {},
   "source": [
    "##### Dataset Description\n",
    "\n",
    "* This dataset is data collected by the New York City Taxi and Limousine commission about \"Green\" Taxis. \n",
    "* Green Taxis (as opposed to yellow ones) are taxis that are not allowed to pick up passengers inside of the densely populated areas of Manhattan. We will use the data from September 2015."
   ]
  },
  {
   "cell_type": "markdown",
   "metadata": {},
   "source": [
    "## Question 1 -  Dataset download and Validation"
   ]
  },
  {
   "cell_type": "code",
   "execution_count": 2,
   "metadata": {
    "collapsed": false
   },
   "outputs": [
    {
     "data": {
      "text/plain": [
       "(1494926, 21)"
      ]
     },
     "execution_count": 2,
     "metadata": {},
     "output_type": "execute_result"
    }
   ],
   "source": [
    "#read the dataset directly from the website\n",
    "df = pd.read_csv(\"https://s3.amazonaws.com/nyc-tlc/trip+data/green_tripdata_2015-09.csv\")\n",
    "df.shape"
   ]
  },
  {
   "cell_type": "code",
   "execution_count": 3,
   "metadata": {
    "collapsed": false
   },
   "outputs": [
    {
     "data": {
      "text/plain": [
       "(1494926, 21)"
      ]
     },
     "execution_count": 3,
     "metadata": {},
     "output_type": "execute_result"
    }
   ],
   "source": [
    "#read the dataset from local\n",
    "df = pd.read_csv(\"~/Downloads/green_tripdata_2015-09.csv\",encoding=\"latin-1\")\n",
    "df.shape"
   ]
  },
  {
   "cell_type": "markdown",
   "metadata": {},
   "source": [
    "This dataset contains 1494926 rows with 21 features\n",
    "##### List of Features are:\n",
    "* VendorID,\n",
    "* lpep_pickup_datetime,\n",
    "* Lpep_dropoff_datetime,\n",
    "* Store_and_fwd_flag,\n",
    "* RateCodeID,\n",
    "* Pickup_longitude,\n",
    "* Pickup_latitude,\n",
    "* Dropoff_longitude,\n",
    "* Dropoff_latitude,\n",
    "* Passenger_count,\n",
    "* Trip_distance,\n",
    "* Fare_amount,\n",
    "* Extra,\n",
    "* MTA_tax,\n",
    "* Tip_amount,\n",
    "* Tolls_amount,\n",
    "* improvement_surcharge,\n",
    "* Total_amount,\n",
    "* Payment_type,\n",
    "* Trip_type "
   ]
  },
  {
   "cell_type": "markdown",
   "metadata": {},
   "source": [
    "#### Validation of dataset"
   ]
  },
  {
   "cell_type": "code",
   "execution_count": 4,
   "metadata": {
    "collapsed": false
   },
   "outputs": [
    {
     "name": "stdout",
     "output_type": "stream",
     "text": [
      "['Ehail_fee', 'Trip_type ']\n"
     ]
    }
   ],
   "source": [
    "#check if the dataset has null values and print columns\n",
    "if(df.isnull().values.any()):\n",
    "    print(df.columns[df.isnull().any()].tolist())"
   ]
  },
  {
   "cell_type": "code",
   "execution_count": 5,
   "metadata": {
    "collapsed": false
   },
   "outputs": [
    {
     "data": {
      "text/plain": [
       "(4, 1494926)"
      ]
     },
     "execution_count": 5,
     "metadata": {},
     "output_type": "execute_result"
    }
   ],
   "source": [
    "#number of rows in each column having null values\n",
    "df['Trip_type '].isnull().sum(), df['Ehail_fee'].isnull().sum()"
   ]
  },
  {
   "cell_type": "code",
   "execution_count": 6,
   "metadata": {
    "collapsed": true
   },
   "outputs": [],
   "source": [
    "#Drop Ehail_fee column since all the rows are null\n",
    "df.drop('Ehail_fee', axis=1, inplace=True)"
   ]
  },
  {
   "cell_type": "code",
   "execution_count": 7,
   "metadata": {
    "collapsed": true
   },
   "outputs": [],
   "source": [
    "#Replace NAN's in column Trip_type to median value\n",
    "df['Trip_type '] = df['Trip_type '].replace(np.nan,df['Trip_type '].median())"
   ]
  },
  {
   "cell_type": "markdown",
   "metadata": {},
   "source": [
    "## Question 2 - Analysis of 'Trip_distance' column"
   ]
  },
  {
   "cell_type": "code",
   "execution_count": 8,
   "metadata": {
    "collapsed": false
   },
   "outputs": [
    {
     "data": {
      "text/plain": [
       "<matplotlib.text.Text at 0x126c644a8>"
      ]
     },
     "execution_count": 8,
     "metadata": {},
     "output_type": "execute_result"
    },
    {
     "data": {
      "image/png": "[encoded data removed]",
      "text/plain": [
       "<matplotlib.figure.Figure at 0x10a481f60>"
      ]
     },
     "metadata": {},
     "output_type": "display_data"
    }
   ],
   "source": [
    "#plot histogram for 'Trip_distance' column\n",
    "bins1=[0,1,2,3,4,5,6,7,8,9,10,11,12,13,14,15,16,17,18,19,20,21,22,23,24,25,26,27,28,29,30,31,32,33,35]\n",
    "fig,axes=plt.subplots(1,2,figsize=(15,5))\n",
    "df['Trip_distance'].hist(ax=axes[0],color='green')\n",
    "axes[0].set_title('Trip distance distribution')\n",
    "axes[0].set_xlabel('Trip Distance (miles)')\n",
    "axes[0].set_ylabel('Count of trips')\n",
    "df['Trip_distance'].hist(bins = bins1, ax=axes[1],color='green')\n",
    "axes[1].set_title('Trip distance distribution in detail')\n",
    "axes[1].set_xlabel('Trip Distance (miles)')\n",
    "axes[1].set_ylabel('Count of trips')"
   ]
  },
  {
   "cell_type": "markdown",
   "metadata": {},
   "source": [
    "#### Analysis \n",
    "* As we look into the first histogram above, we can understand that the trip distances do not really exceed more than 60 miles.\n",
    "* To analyze this in more detail, I have plotted trip distances in the range of 0-35. By looking at this we can understand that, it has normal distribution skewed to the right. \n",
    "* And most of the trips travel a distance of about 1-4 miles.\n",
    "* Looks like there are outliers after considering this distribution.\n",
    "\n",
    "#### Hypothesis\n",
    "*  Most of the trips are shot distanced. Though this dataset does not have densely populated areas of Manhattan, people prefer such the trips are short."
   ]
  },
  {
   "cell_type": "markdown",
   "metadata": {},
   "source": [
    "##  Question 3a - Mean and Median of 'Trip_distance' by hour of the day"
   ]
  },
  {
   "cell_type": "code",
   "execution_count": 9,
   "metadata": {
    "collapsed": false
   },
   "outputs": [],
   "source": [
    "#convert pickup and dropoff times into datetimes and extract hour of the pickup\n",
    "df['lpep_pickup_datetime']=pd.to_datetime(df['lpep_pickup_datetime'])\n",
    "df['Lpep_dropoff_datetime']=pd.to_datetime(df['Lpep_dropoff_datetime'])\n",
    "df['pickuptime_hour'] = df.lpep_pickup_datetime.apply(lambda x: x.hour)"
   ]
  },
  {
   "cell_type": "code",
   "execution_count": 10,
   "metadata": {
    "collapsed": false
   },
   "outputs": [],
   "source": [
    "#extract mean, median of trip_distance by hour of the day\n",
    "meanmediandistance = df.pivot_table(index='pickuptime_hour', values='Trip_distance',aggfunc=('mean','median')).reset_index()"
   ]
  },
  {
   "cell_type": "code",
   "execution_count": 11,
   "metadata": {
    "collapsed": false
   },
   "outputs": [
    {
     "data": {
      "image/png": "[encoded data removed]",
      "text/plain": [
       "<matplotlib.figure.Figure at 0x130f7ea90>"
      ]
     },
     "metadata": {},
     "output_type": "display_data"
    }
   ],
   "source": [
    "#plot the graphs\n",
    "fig,ax = plt.subplots(1,1,figsize=(9,5))\n",
    "meanmediandistance[['mean','median']].plot(ax=ax)\n",
    "plt.ylabel('Mean & Median(miles)')\n",
    "plt.xlabel('Hours')\n",
    "plt.title('Distribution of trip distance by pickup hour')\n",
    "plt.xlim([0,23])\n",
    "plt.show()"
   ]
  },
  {
   "cell_type": "markdown",
   "metadata": {},
   "source": [
    "#### Analysis\n",
    "* By looking at the graph above, we can understand that people tend to have longer travels in the mornings around 4-9AM because of their travel to work or other reason because of the peak in both median and mean.\n",
    "* During 4-9AM, Most of the people travel around 4.0 miles in the morning and the average distance people travel in the mornings is 2.8 Miles.\n",
    "* This trend seems to decrease during afternoons and nights and tend to increase during midnight hours.\n"
   ]
  },
  {
   "cell_type": "markdown",
   "metadata": {},
   "source": [
    "## Question 3b - trips that originate or terminate at one of the NYC area airports"
   ]
  },
  {
   "cell_type": "markdown",
   "metadata": {},
   "source": [
    "###### RateCodeID represents the final rate code in effect at the end of the trip and the numbers describe as below.\n",
    "* 1= Standard rate\n",
    "* 2=JFK\n",
    "* 3=Newark\n",
    "* 4=Nassau or Westchester \n",
    "* 5=Negotiated fare \n",
    "* 6=Group ride\n",
    "\n",
    "###### Since we are looking for trips that originate or terminate in NYC airports(\"JFK\" and \"Nassau or Westchester\"), we consider RateCodeID's 2 and 3."
   ]
  },
  {
   "cell_type": "code",
   "execution_count": 12,
   "metadata": {
    "collapsed": false
   },
   "outputs": [
    {
     "data": {
      "text/plain": [
       "(5552, 21)"
      ]
     },
     "execution_count": 12,
     "metadata": {},
     "output_type": "execute_result"
    }
   ],
   "source": [
    "df_airport = df[(df.RateCodeID == 2) | (df.RateCodeID == 3)]\n",
    "df_airport.shape"
   ]
  },
  {
   "cell_type": "code",
   "execution_count": 13,
   "metadata": {
    "collapsed": false
   },
   "outputs": [
    {
     "data": {
      "text/plain": [
       "(48.976945244956774, 57.20842038904719)"
      ]
     },
     "execution_count": 13,
     "metadata": {},
     "output_type": "execute_result"
    }
   ],
   "source": [
    "df_airport['Fare_amount'].mean(), df_airport['Total_amount'].mean()"
   ]
  },
  {
   "cell_type": "markdown",
   "metadata": {},
   "source": [
    "#### Analysis\n",
    "* We have 5552 trips that terminate at airport\n",
    "* Average Fare amount for the trips that originate/terminate in airports is 48.9769 per trip  \n",
    "* Median Fare amount for such trips is 57.2084 per trip"
   ]
  },
  {
   "cell_type": "markdown",
   "metadata": {},
   "source": [
    "#### Airport trip frequency per hour"
   ]
  },
  {
   "cell_type": "code",
   "execution_count": 14,
   "metadata": {
    "collapsed": false
   },
   "outputs": [
    {
     "data": {
      "image/png": "[encoded data removed]",
      "text/plain": [
       "<matplotlib.figure.Figure at 0x11f3464a8>"
      ]
     },
     "metadata": {},
     "output_type": "display_data"
    }
   ],
   "source": [
    "#copy dataset for each airport separately into dataframes\n",
    "JFKAirport = df[(df.RateCodeID == 2)]\n",
    "NewarkAirport = df[(df.RateCodeID == 3)]\n",
    "\n",
    "#plot histogram\n",
    "fig = plt.figure(figsize=(13,5))\n",
    "ax = fig.add_subplot(111)\n",
    "ax2 = ax.twinx()\n",
    "JFKAirport.groupby([JFKAirport.RateCodeID, JFKAirport.pickuptime_hour])['Fare_amount'].count().plot(kind='bar', color='green', ax=ax, position=0, width=0.25)\n",
    "NewarkAirport.groupby([NewarkAirport.RateCodeID, NewarkAirport.pickuptime_hour])['Fare_amount'].count().plot(kind='bar', color='red', ax=ax2, position=1, width=0.25)\n",
    "plt.show()"
   ]
  },
  {
   "cell_type": "markdown",
   "metadata": {},
   "source": [
    "#### Analysis\n",
    "* In the above histogram red represents JFK Airport and green represents Nassau or Westchester Airport having details about per hour trips to airport\n",
    "* Number of trips to JFK Airport are higher when compared to Nassau or Westchester\n",
    "* Number of trips are in general higher during evening times around 2-5PM"
   ]
  },
  {
   "cell_type": "markdown",
   "metadata": {},
   "source": [
    "#### Pickup frequencies at airports vs non-airports"
   ]
  },
  {
   "cell_type": "code",
   "execution_count": 15,
   "metadata": {
    "collapsed": false
   },
   "outputs": [],
   "source": [
    "#combine airport and non airport dataframes having trip counts group by hour\n",
    "airport_aggdf = pd.DataFrame({'airport_count' : df[(df.RateCodeID == 2) | (df.RateCodeID == 3)].groupby( [ \"pickuptime_hour\"] ).size()}).reset_index()\n",
    "non_airport_aggdf = pd.DataFrame({'nonairport_count' : df[(df.RateCodeID != 2) & (df.RateCodeID != 3)].groupby( [ \"pickuptime_hour\"] ).size()}).reset_index()\n",
    "result = pd.concat([airport_aggdf, non_airport_aggdf], axis=1)"
   ]
  },
  {
   "cell_type": "code",
   "execution_count": 16,
   "metadata": {
    "collapsed": true
   },
   "outputs": [],
   "source": [
    "#normalize the values\n",
    "result['airport_count'] -= result['airport_count'].min()\n",
    "result['airport_count'] /= result['airport_count'].max()\n",
    "result['nonairport_count'] -= result['nonairport_count'].min()\n",
    "result['nonairport_count'] /= result['nonairport_count'].max()"
   ]
  },
  {
   "cell_type": "code",
   "execution_count": 17,
   "metadata": {
    "collapsed": false
   },
   "outputs": [
    {
     "data": {
      "text/plain": [
       "<matplotlib.axes._subplots.AxesSubplot at 0x112f23a58>"
      ]
     },
     "execution_count": 17,
     "metadata": {},
     "output_type": "execute_result"
    },
    {
     "data": {
      "image/png": "[encoded data removed]",
      "text/plain": [
       "<matplotlib.figure.Figure at 0x130f7e898>"
      ]
     },
     "metadata": {},
     "output_type": "display_data"
    }
   ],
   "source": [
    "#plot graph\n",
    "result[['airport_count','nonairport_count']].plot()"
   ]
  },
  {
   "cell_type": "markdown",
   "metadata": {},
   "source": [
    "#### Analysis\n",
    "* Number of trips to airports are higher during evening times and decreases during midnight hours\n",
    "* Number of non airport trips are higher during midnight hours and they started increasing since morning 5AM\n",
    "* Both Airports and Non-airport trips have their own peak hours"
   ]
  },
  {
   "cell_type": "markdown",
   "metadata": {},
   "source": [
    "## Question 4a - derived variable for tip as a percentage of the total fare"
   ]
  },
  {
   "cell_type": "code",
   "execution_count": 18,
   "metadata": {
    "collapsed": true
   },
   "outputs": [],
   "source": [
    "df['tip_derived(%)']=(df['Tip_amount']/df['Total_amount'])*100"
   ]
  },
  {
   "cell_type": "markdown",
   "metadata": {},
   "source": [
    "## Question 4b - Predictive model for tip"
   ]
  },
  {
   "cell_type": "markdown",
   "metadata": {
    "collapsed": false
   },
   "source": [
    "### Inorder to build a predictive model for tip, below are steps we have followed and the approach is discussed below.\n",
    "### Data Validation\n",
    "* All the amount values seems to have negative values, hence they are replaced with absolute values\n",
    "* As we saw before RateCodeId's 1-6 make sense but in our dataset we do have other values like 99 so exclude them\n",
    "* Store_and_fwd_flag column is a categorical variable having values Y/N so change them to 1/0\n",
    "\n",
    "### Feature Engineering\n",
    "* Trip Duration : I would like to see if the trip duration of trip influences the passenger to offer tip\n",
    "* Speed : Speed might as well affect tip given to people, since people might like drivers driving fastly/slowly\n",
    "* Shift : I have divided pickup time hour in to shifts to see which part of the day people tend to give more tips.\n",
    "* See Correlation among variables to see which variables matter most\n",
    "\n",
    "### Model Building\n",
    "* The first step here is to predict if a transaction has a tip\n",
    "##### Classification to predict if tip given\n",
    "* Inorder to predict this, understand which variables influence Tip and used RandomForest Classifier to predict tip\n",
    "##### Regression to predict tip percentage\n",
    "* The next step is to predict Percentage of tip for all the predictions which have tip. Since the variables did not have a correlation(linear relationship), we used regression using trees(RandomForest Regressor) to predict percentage of tip given."
   ]
  },
  {
   "cell_type": "markdown",
   "metadata": {},
   "source": [
    "### Data Validation"
   ]
  },
  {
   "cell_type": "markdown",
   "metadata": {},
   "source": [
    "###### Replace Negative values with absolute values"
   ]
  },
  {
   "cell_type": "code",
   "execution_count": 19,
   "metadata": {
    "collapsed": false
   },
   "outputs": [
    {
     "data": {
      "text/plain": [
       "(2418, 22)"
      ]
     },
     "execution_count": 19,
     "metadata": {},
     "output_type": "execute_result"
    }
   ],
   "source": [
    "#Number of rows with negative values\n",
    "df2 = df[(df['Fare_amount']<0)|(df['Extra']<0) |(df['MTA_tax']<0)|(df['Tip_amount']<0)|(df['Tolls_amount']<0)|(df['improvement_surcharge']<0)|(df['Total_amount']<0)]\n",
    "df2.shape"
   ]
  },
  {
   "cell_type": "code",
   "execution_count": 20,
   "metadata": {
    "collapsed": false
   },
   "outputs": [],
   "source": [
    "#replace negative values with absolute values\n",
    "df['Fare_amount'] = df['Fare_amount'].abs()\n",
    "df['Extra'] = df['Extra'].abs()\n",
    "df['MTA_tax'] = df['MTA_tax'].abs()\n",
    "df['Tip_amount'] = df['Tip_amount'].abs()\n",
    "df['Tolls_amount'] = df['Tolls_amount'].abs()\n",
    "df['improvement_surcharge'] = df['improvement_surcharge'].abs()\n",
    "df['Total_amount'] = df['Total_amount'].abs()"
   ]
  },
  {
   "cell_type": "markdown",
   "metadata": {},
   "source": [
    "###### RateCodeID 99 is invalid code so delete them"
   ]
  },
  {
   "cell_type": "code",
   "execution_count": 21,
   "metadata": {
    "collapsed": false
   },
   "outputs": [
    {
     "data": {
      "text/plain": [
       "array([ 5,  1,  2,  4,  3, 99,  6])"
      ]
     },
     "execution_count": 21,
     "metadata": {},
     "output_type": "execute_result"
    }
   ],
   "source": [
    "df['RateCodeID'].unique()"
   ]
  },
  {
   "cell_type": "code",
   "execution_count": 22,
   "metadata": {
    "collapsed": false
   },
   "outputs": [],
   "source": [
    "df = df[df['RateCodeID']!=99]"
   ]
  },
  {
   "cell_type": "markdown",
   "metadata": {},
   "source": [
    "###### Store_and_fwd_flag to numerical variable"
   ]
  },
  {
   "cell_type": "code",
   "execution_count": 23,
   "metadata": {
    "collapsed": false
   },
   "outputs": [
    {
     "data": {
      "text/plain": [
       "array(['N', 'Y'], dtype=object)"
      ]
     },
     "execution_count": 23,
     "metadata": {},
     "output_type": "execute_result"
    }
   ],
   "source": [
    "df.Store_and_fwd_flag.unique()"
   ]
  },
  {
   "cell_type": "code",
   "execution_count": 24,
   "metadata": {
    "collapsed": true
   },
   "outputs": [],
   "source": [
    "df['Store_and_fwd_flag'] = df['Store_and_fwd_flag'].replace('Y',1)\n",
    "df['Store_and_fwd_flag'] = df['Store_and_fwd_flag'].replace('N',0)"
   ]
  },
  {
   "cell_type": "markdown",
   "metadata": {},
   "source": [
    "### Feature Engineering"
   ]
  },
  {
   "cell_type": "markdown",
   "metadata": {},
   "source": [
    "###### Derived Variables"
   ]
  },
  {
   "cell_type": "code",
   "execution_count": 25,
   "metadata": {
    "collapsed": false
   },
   "outputs": [],
   "source": [
    "#duration of trip in minutes\n",
    "df['tripduration'] = ((df['Lpep_dropoff_datetime'] - df['lpep_pickup_datetime']).apply(lambda x:x.total_seconds()/60.0))"
   ]
  },
  {
   "cell_type": "code",
   "execution_count": 26,
   "metadata": {
    "collapsed": false
   },
   "outputs": [],
   "source": [
    "#speed in miles per hour\n",
    "df['speed'] = df['Trip_distance']/(df['tripduration']/60)"
   ]
  },
  {
   "cell_type": "code",
   "execution_count": 27,
   "metadata": {
    "collapsed": false
   },
   "outputs": [],
   "source": [
    "#shift\n",
    "df['Shift_type'] = np.NAN\n",
    "df.loc[df[(df.pickuptime_hour>=7) & (df.pickuptime_hour<15)].index,'Shift_type'] = 1\n",
    "df.loc[df[(df.pickuptime_hour>=15) & (df.pickuptime_hour<23)].index,'Shift_type'] = 2\n",
    "df.loc[df[df.Shift_type.isnull()].index,'Shift_type'] = 3"
   ]
  },
  {
   "cell_type": "code",
   "execution_count": 28,
   "metadata": {
    "collapsed": true
   },
   "outputs": [],
   "source": [
    "# create with_tip variable\n",
    "df['With_tip'] = (df['tip_derived(%)']>0)*1"
   ]
  },
  {
   "cell_type": "code",
   "execution_count": 29,
   "metadata": {
    "collapsed": true
   },
   "outputs": [],
   "source": [
    "#replace NAN or infinity values\n",
    "df['With_tip'] = df['With_tip'].replace(np.nan,0.0)\n",
    "df['tip_derived(%)'] = df['tip_derived(%)'].replace(np.nan,0.0)\n",
    "df['speed'] = df['speed'].replace(np.nan,0.0)\n",
    "df = df.replace(np.inf, np.nan)\n",
    "df = df.fillna(0)"
   ]
  },
  {
   "cell_type": "code",
   "execution_count": 30,
   "metadata": {
    "collapsed": true
   },
   "outputs": [],
   "source": [
    "#backup dataframe\n",
    "df_backup = df.copy()"
   ]
  },
  {
   "cell_type": "code",
   "execution_count": 31,
   "metadata": {
    "collapsed": true
   },
   "outputs": [],
   "source": [
    "#since we are not using these column, drop them\n",
    "df.drop('lpep_pickup_datetime', axis=1, inplace=True)\n",
    "df.drop('Lpep_dropoff_datetime', axis=1, inplace=True)\n",
    "df.drop('Pickup_longitude', axis=1, inplace=True)\n",
    "df.drop('Pickup_latitude', axis=1, inplace=True)\n",
    "df.drop('Dropoff_longitude', axis=1, inplace=True)\n",
    "df.drop('Dropoff_latitude', axis=1, inplace=True)"
   ]
  },
  {
   "cell_type": "markdown",
   "metadata": {},
   "source": [
    "###### Distribution of 'tip_derived(%)' column"
   ]
  },
  {
   "cell_type": "code",
   "execution_count": 32,
   "metadata": {
    "collapsed": false
   },
   "outputs": [
    {
     "data": {
      "image/png": "[encoded data removed]",
      "text/plain": [
       "<matplotlib.figure.Figure at 0x111e31a58>"
      ]
     },
     "metadata": {},
     "output_type": "display_data"
    }
   ],
   "source": [
    "# generate histograms to see distribution of tip\n",
    "data1 = df[df['tip_derived(%)']>0]\n",
    "data2 = df[df['tip_derived(%)']==0]\n",
    "\n",
    "#Tip percentage vs all transactions\n",
    "fig,ax=plt.subplots(1,2,figsize=(14,4))\n",
    "df['tip_derived(%)'].hist(bins = 20,normed=True,ax=ax[0])\n",
    "ax[0].set_xlabel('Tip (%)')\n",
    "ax[0].set_ylabel('Normed Transaction Count')\n",
    "ax[0].set_title('Distribution of Tip (%) - All transactions')\n",
    "\n",
    "#Tip percentage vs Transactions with tips\n",
    "data1['tip_derived(%)'].hist(bins = 20,normed=True,ax=ax[1])\n",
    "ax[1].set_xlabel('Tip (%)')\n",
    "ax[1].set_title('Distribution of Tip (%) - Transaction with tips')\n",
    "ax[1].set_ylabel('Normed Transaction count')\n",
    "plt.show()"
   ]
  },
  {
   "cell_type": "markdown",
   "metadata": {},
   "source": [
    "### Analysis\n",
    "* The histogram on the left side represents distribution of tip with respect to all transactions. Looks like most of the trasactions does not have tip(around 60% of transactions).\n",
    "* Among the transactions that have tip, most of the transactions have the tip percentage between 16-25%"
   ]
  },
  {
   "cell_type": "markdown",
   "metadata": {},
   "source": [
    "###### Correlation among variables"
   ]
  },
  {
   "cell_type": "code",
   "execution_count": 33,
   "metadata": {
    "collapsed": false
   },
   "outputs": [
    {
     "data": {
      "text/plain": [
       "<matplotlib.axes._subplots.AxesSubplot at 0x11396c0b8>"
      ]
     },
     "execution_count": 33,
     "metadata": {},
     "output_type": "execute_result"
    },
    {
     "data": {
      "image/png": "[encoded data removed]",
      "text/plain": [
       "<matplotlib.figure.Figure at 0x12f7f3f60>"
      ]
     },
     "metadata": {},
     "output_type": "display_data"
    }
   ],
   "source": [
    "#Correlation among variables\n",
    "import seaborn as sns\n",
    "f, ax = plt.subplots(figsize=(10, 8))\n",
    "corr = df.corr()\n",
    "sns.heatmap(corr, mask=np.zeros_like(corr, dtype=np.bool), cmap=sns.diverging_palette(220, 10, as_cmap=True),\n",
    "            square=True, ax=ax)"
   ]
  },
  {
   "cell_type": "markdown",
   "metadata": {},
   "source": [
    "#### Analysis\n",
    "* By looking at the above plot, 'With_Tip'is highly influenced by columns Tip_Derived(%), Total_amount, MTA_Tax, Extra, improvement_surcharge, Tolls_amount, Tip_amount, Fare_amount and Trip_distance\n",
    "* Since Total_amount is highly correlated to Fare_amount and Tolls_amount, we consider Total_amount for our analysis.\n",
    "* With_tip is derived from Tip_amount, Tip_Derived(%), hence we disregard those characterists\n",
    "* Hence we finally consider Total_amount, MTA_Tax, improvement_surcharge, Extra including derived variables speed, tripduration, pickuptime_hour"
   ]
  },
  {
   "cell_type": "markdown",
   "metadata": {},
   "source": [
    "### Classification"
   ]
  },
  {
   "cell_type": "markdown",
   "metadata": {},
   "source": [
    "### Random Forest Classification - Prediction if tip given"
   ]
  },
  {
   "cell_type": "markdown",
   "metadata": {},
   "source": [
    "For tip prediction, we have used a sample dataset of 300000 transactions and split them into test and training datasets."
   ]
  },
  {
   "cell_type": "code",
   "execution_count": 34,
   "metadata": {
    "collapsed": true
   },
   "outputs": [],
   "source": [
    "from sklearn.model_selection import train_test_split\n",
    "from sklearn.ensemble import RandomForestClassifier\n",
    "from sklearn.metrics import confusion_matrix"
   ]
  },
  {
   "cell_type": "code",
   "execution_count": 35,
   "metadata": {
    "collapsed": true
   },
   "outputs": [],
   "source": [
    "#Features for classification\n",
    "columnsforclassification = ['Payment_type','Trip_distance','Total_amount','tripduration','speed','MTA_tax',\n",
    "              'Extra','improvement_surcharge','pickuptime_hour','With_tip']\n",
    "dfclass =  df[columnsforclassification]"
   ]
  },
  {
   "cell_type": "code",
   "execution_count": 36,
   "metadata": {
    "collapsed": false
   },
   "outputs": [],
   "source": [
    "#consider part of the dataset for our analysis\n",
    "train = dfclass.copy()\n",
    "train = df.loc[np.random.choice(train.index,size=300000,replace=False)]"
   ]
  },
  {
   "cell_type": "code",
   "execution_count": 37,
   "metadata": {
    "collapsed": false
   },
   "outputs": [
    {
     "data": {
      "text/plain": [
       "((240000, 19), 240000, (60000, 19), 60000)"
      ]
     },
     "execution_count": 37,
     "metadata": {},
     "output_type": "execute_result"
    }
   ],
   "source": [
    "#split dataset into train and test\n",
    "df_y = train['With_tip'].tolist()\n",
    "df_x = train.drop('With_tip', axis=1)\n",
    "X_train, X_test, y_train, y_test = train_test_split(df_x, df_y, test_size=0.2, random_state=0)\n",
    "X_train.shape,len(y_train),X_test.shape,len(y_test)"
   ]
  },
  {
   "cell_type": "code",
   "execution_count": 38,
   "metadata": {
    "collapsed": false
   },
   "outputs": [
    {
     "data": {
      "text/plain": [
       "RandomForestClassifier(bootstrap=True, class_weight=None, criterion='gini',\n",
       "            max_depth=None, max_features='sqrt', max_leaf_nodes=None,\n",
       "            min_impurity_split=1e-07, min_samples_leaf=1,\n",
       "            min_samples_split=2, min_weight_fraction_leaf=0.0,\n",
       "            n_estimators=200, n_jobs=-1, oob_score=False,\n",
       "            random_state=None, verbose=0, warm_start=False)"
      ]
     },
     "execution_count": 38,
     "metadata": {},
     "output_type": "execute_result"
    }
   ],
   "source": [
    "#RandomForest Classifier with estimators 200\n",
    "rfc = RandomForestClassifier(n_jobs=-1,max_features= 'sqrt' ,n_estimators=200)\n",
    "rfc.fit(X_train, y_train)"
   ]
  },
  {
   "cell_type": "code",
   "execution_count": 70,
   "metadata": {
    "collapsed": false
   },
   "outputs": [],
   "source": [
    "import pickle\n",
    "with open('rf_classifier.pkl','wb') as fid:\n",
    "    pickle.dump(rfc,fid)\n",
    "    fid.close()"
   ]
  },
  {
   "cell_type": "code",
   "execution_count": 40,
   "metadata": {
    "collapsed": false
   },
   "outputs": [
    {
     "data": {
      "text/html": [
       "<div>\n",
       "<style>\n",
       "    .dataframe thead tr:only-child th {\n",
       "        text-align: right;\n",
       "    }\n",
       "\n",
       "    .dataframe thead th {\n",
       "        text-align: left;\n",
       "    }\n",
       "\n",
       "    .dataframe tbody tr th {\n",
       "        vertical-align: top;\n",
       "    }\n",
       "</style>\n",
       "<table border=\"1\" class=\"dataframe\">\n",
       "  <thead>\n",
       "    <tr style=\"text-align: right;\">\n",
       "      <th></th>\n",
       "      <th>Predicted Tip Given</th>\n",
       "      <th>Predicted Tip not Given</th>\n",
       "    </tr>\n",
       "  </thead>\n",
       "  <tbody>\n",
       "    <tr>\n",
       "      <th>Actual Tip Given</th>\n",
       "      <td>35891</td>\n",
       "      <td>0</td>\n",
       "    </tr>\n",
       "    <tr>\n",
       "      <th>Actual Tip not Given</th>\n",
       "      <td>1</td>\n",
       "      <td>24108</td>\n",
       "    </tr>\n",
       "  </tbody>\n",
       "</table>\n",
       "</div>"
      ],
      "text/plain": [
       "                      Predicted Tip Given  Predicted Tip not Given\n",
       "Actual Tip Given                    35891                        0\n",
       "Actual Tip not Given                    1                    24108"
      ]
     },
     "execution_count": 40,
     "metadata": {},
     "output_type": "execute_result"
    }
   ],
   "source": [
    "#Confusion Matrix\n",
    "y_predict = rfc.predict(X_test)\n",
    "pd.DataFrame(confusion_matrix(y_test, y_predict),columns=['Predicted Tip Given', 'Predicted Tip not Given'],\n",
    "             index=['Actual Tip Given', 'Actual Tip not Given'])"
   ]
  },
  {
   "cell_type": "code",
   "execution_count": 42,
   "metadata": {
    "collapsed": false
   },
   "outputs": [
    {
     "name": "stdout",
     "output_type": "stream",
     "text": [
      "RF accuracy: TRAINING 1.0\n",
      "RF accuracy: TESTING 0.999983333333\n"
     ]
    }
   ],
   "source": [
    "#Accuracy on training dataset and test dataset\n",
    "print ('RF accuracy: TRAINING', rfc.score(X_train,y_train))\n",
    "print ('RF accuracy: TESTING', rfc.score(X_test,y_test))"
   ]
  },
  {
   "cell_type": "code",
   "execution_count": 44,
   "metadata": {
    "collapsed": false
   },
   "outputs": [
    {
     "name": "stdout",
     "output_type": "stream",
     "text": [
      "ROC AUC: 1.00\n"
     ]
    },
    {
     "data": {
      "image/png": "[encoded data removed]",
      "text/plain": [
       "<matplotlib.figure.Figure at 0x1066c7d68>"
      ]
     },
     "metadata": {},
     "output_type": "display_data"
    }
   ],
   "source": [
    "#ROC Curve\n",
    "from sklearn.metrics import roc_curve, auc\n",
    "fpr, tpr, _ = roc_curve(y_test, rfc.predict_proba(X_test)[:,1])\n",
    "\n",
    "roc_auc = auc(fpr, tpr)\n",
    "print('ROC AUC: %0.2f' % roc_auc)\n",
    " \n",
    "# Plot of a ROC curve for a specific class\n",
    "plt.figure()\n",
    "plt.plot(fpr, tpr, label='ROC curve (area = %0.2f)' % roc_auc)\n",
    "plt.plot([0, 1], [0, 1], 'k--')\n",
    "plt.xlim([0.0, 1.0])\n",
    "plt.ylim([0.0, 1.05])\n",
    "plt.xlabel('False Positive Rate')\n",
    "plt.ylabel('True Positive Rate')\n",
    "plt.title('ROC Curve')\n",
    "plt.legend(loc=\"lower right\")\n",
    "plt.show()"
   ]
  },
  {
   "cell_type": "markdown",
   "metadata": {},
   "source": [
    "#### Analysis\n",
    "* With the given featureset, we can correctly predict if a transaction has tip or not\n",
    "* The model does not have any false negatives or false positives.\n",
    "* Prediction of whether a tip is given worked well on both training and testing dataset"
   ]
  },
  {
   "cell_type": "markdown",
   "metadata": {},
   "source": [
    "### Regression"
   ]
  },
  {
   "cell_type": "code",
   "execution_count": 45,
   "metadata": {
    "collapsed": false
   },
   "outputs": [
    {
     "data": {
      "text/plain": [
       "<matplotlib.axes._subplots.AxesSubplot at 0x1066c7e80>"
      ]
     },
     "execution_count": 45,
     "metadata": {},
     "output_type": "execute_result"
    },
    {
     "data": {
      "image/png": "[encoded data removed]",
      "text/plain": [
       "<matplotlib.figure.Figure at 0x1066c7048>"
      ]
     },
     "metadata": {},
     "output_type": "display_data"
    }
   ],
   "source": [
    "#Correlation among variables\n",
    "import seaborn as sns\n",
    "f, ax = plt.subplots(figsize=(10, 8))\n",
    "corr = df.corr()\n",
    "sns.heatmap(corr, mask=np.zeros_like(corr, dtype=np.bool), cmap=sns.diverging_palette(220, 10, as_cmap=True),\n",
    "            square=True, ax=ax)"
   ]
  },
  {
   "cell_type": "markdown",
   "metadata": {},
   "source": [
    "### Analysis\n",
    "* 'Tip_derived(%)' variable is highly influenced by Trip_distance, Fare_amount, MTA_Tax, Tip_Amount, Tolls_Amount, With_tip\n",
    "* All the amount related columns are highly correlated to Total_amount and hence we consider that for our analysis including derived variables \n",
    "* Since all the transactions having tip are mostly paid using Credit Card, we ignore feature 'Payment_Type'"
   ]
  },
  {
   "cell_type": "markdown",
   "metadata": {},
   "source": [
    "### Random Forest Regressor Model - Prediction of Tip Percentage"
   ]
  },
  {
   "cell_type": "markdown",
   "metadata": {},
   "source": [
    "###### Steps\n",
    "* We use part of the dataset for our analysis\n",
    "* Extract test and training dataset from main dataframe\n",
    "* Use GridSearchCV to get best parameters for Random Forest Regressor\n",
    "* USing these parameters fit the model and predict the tip percentage\n"
   ]
  },
  {
   "cell_type": "code",
   "execution_count": 46,
   "metadata": {
    "collapsed": false
   },
   "outputs": [
    {
     "name": "stderr",
     "output_type": "stream",
     "text": [
      "/Users/dvudem/anaconda/envs/python34/lib/python3.4/site-packages/sklearn/cross_validation.py:44: DeprecationWarning: This module was deprecated in version 0.18 in favor of the model_selection module into which all the refactored classes and functions are moved. Also note that the interface of the new CV iterators are different from that of this module. This module will be removed in 0.20.\n",
      "  \"This module will be removed in 0.20.\", DeprecationWarning)\n"
     ]
    }
   ],
   "source": [
    "from sklearn.ensemble import RandomForestRegressor\n",
    "from sklearn import cross_validation\n",
    "from sklearn.model_selection import GridSearchCV\n",
    "from sklearn.metrics import mean_squared_error, r2_score, roc_auc_score\n",
    "import warnings\n",
    "warnings.filterwarnings(\"ignore\")"
   ]
  },
  {
   "cell_type": "code",
   "execution_count": 47,
   "metadata": {
    "collapsed": true
   },
   "outputs": [],
   "source": [
    "#predictors and target variable used for regression\n",
    "predictors = ['Total_amount', 'Trip_distance', 'tripduration', 'speed','Shift_type']\n",
    "train['ID'] = train.index\n",
    "target = 'tip_derived(%)'"
   ]
  },
  {
   "cell_type": "code",
   "execution_count": 48,
   "metadata": {
    "collapsed": false
   },
   "outputs": [],
   "source": [
    "#train and test datasets extracted from main dataframe\n",
    "train = df.copy()\n",
    "train = train.loc[np.random.choice(train.index,size=100000,replace=False)]\n",
    "indices = df.index[~df.index.isin(train.index)]\n",
    "test = df.loc[np.random.choice(indices,size=100000,replace=False)]"
   ]
  },
  {
   "cell_type": "code",
   "execution_count": 49,
   "metadata": {
    "collapsed": true
   },
   "outputs": [],
   "source": [
    "#returns best parameters for regression using GridSearchCV\n",
    "def optimize_param(alg,param_test,scoring_method,train,predictors,target):\n",
    "    gsearch = GridSearchCV(estimator=alg, param_grid = param_test, scoring=scoring_method,n_jobs=2,iid=False,cv=5)\n",
    "    gsearch.fit(train[predictors],train[target])\n",
    "    return gsearch"
   ]
  },
  {
   "cell_type": "code",
   "execution_count": 50,
   "metadata": {
    "collapsed": false
   },
   "outputs": [],
   "source": [
    "#Random Forest regressor model with estimator 'mean_squared_error'\n",
    "param_test = {\n",
    "            'n_estimators':range(50,200,25)\n",
    "             } \n",
    "rfr = RandomForestRegressor()\n",
    "gs_rfr = optimize_param(rfr,param_test,'mean_squared_error',train,predictors,target)"
   ]
  },
  {
   "cell_type": "code",
   "execution_count": 51,
   "metadata": {
    "collapsed": false
   },
   "outputs": [
    {
     "name": "stdout",
     "output_type": "stream",
     "text": [
      "[mean: -15.17290, std: 0.48722, params: {'n_estimators': 50}, mean: -15.02209, std: 0.50818, params: {'n_estimators': 75}, mean: -14.99004, std: 0.55714, params: {'n_estimators': 100}, mean: -14.90798, std: 0.53008, params: {'n_estimators': 125}, mean: -15.03028, std: 0.52477, params: {'n_estimators': 150}, mean: -14.91469, std: 0.49788, params: {'n_estimators': 175}] {'n_estimators': 125} -14.9079791294\n"
     ]
    }
   ],
   "source": [
    "#best parameters from grid search\n",
    "print(gs_rfr.grid_scores_, gs_rfr.best_params_, gs_rfr.best_score_)"
   ]
  },
  {
   "cell_type": "code",
   "execution_count": 52,
   "metadata": {
    "collapsed": false
   },
   "outputs": [
    {
     "name": "stdout",
     "output_type": "stream",
     "text": [
      "RandomForestRegressor(bootstrap=True, criterion='mse', max_depth=None,\n",
      "           max_features='auto', max_leaf_nodes=None,\n",
      "           min_impurity_split=1e-07, min_samples_leaf=1,\n",
      "           min_samples_split=2, min_weight_fraction_leaf=0.0,\n",
      "           n_estimators=125, n_jobs=1, oob_score=False, random_state=None,\n",
      "           verbose=0, warm_start=False)\n"
     ]
    }
   ],
   "source": [
    "print(gs_rfr.best_estimator_)"
   ]
  },
  {
   "cell_type": "code",
   "execution_count": 71,
   "metadata": {
    "collapsed": true
   },
   "outputs": [],
   "source": [
    "import pickle\n",
    "with open('rf_regressor.pkl','wb') as fid:\n",
    "    pickle.dump(gs_rfr.best_estimator_,fid)\n",
    "    fid.close()"
   ]
  },
  {
   "cell_type": "markdown",
   "metadata": {},
   "source": [
    "### Check performance on training dataset using parameters obtained"
   ]
  },
  {
   "cell_type": "code",
   "execution_count": 53,
   "metadata": {
    "collapsed": false
   },
   "outputs": [
    {
     "name": "stdout",
     "output_type": "stream",
     "text": [
      "Accuracy: 2.10686498111\n",
      "CV Score - Mean : -14.98483 | Std Dev : 0.5478281 | Min : -16.06747 | Max : -14.55259\n"
     ]
    }
   ],
   "source": [
    "# train the algorithm on data\n",
    "gs_rfr.best_estimator_.fit(train[predictors],train[target])\n",
    "\n",
    "#prediction on training dataset using cross validation\n",
    "train_predictions = gs_rfr.best_estimator_.predict(train[predictors])\n",
    "cv_score = cross_validation.cross_val_score(gs_rfr.best_estimator_,train[predictors],train[target],cv=5,scoring='mean_squared_error')\n",
    "\n",
    "#model evaluation metrics\n",
    "print(\"Accuracy:\",mean_squared_error(train[target].values,train_predictions))\n",
    "print(\"CV Score - Mean : %.7g | Std Dev : %.7g | Min : %.7g | Max : %.7g\" % (np.mean(cv_score),np.std(cv_score),np.min(cv_score),np.max(cv_score)))"
   ]
  },
  {
   "cell_type": "code",
   "execution_count": 54,
   "metadata": {
    "collapsed": false
   },
   "outputs": [
    {
     "name": "stdout",
     "output_type": "stream",
     "text": [
      "RFR test mse: 14.4090520044\n",
      "RFR r2: 0.784909281915\n"
     ]
    }
   ],
   "source": [
    "ypred = gs_rfr.best_estimator_.predict(test[predictors])\n",
    "print('RFR test mse:',mean_squared_error(ypred,test['tip_derived(%)']))\n",
    "print('RFR r2:', r2_score(ypred,test['tip_derived(%)']))"
   ]
  },
  {
   "cell_type": "markdown",
   "metadata": {},
   "source": [
    "#### Analysis\n",
    "* The best optimal number of trees for which results are good is 175\n",
    "* The mean square error was used as a valuation metric\n",
    "* mean square error on the same training dataset is: 13.799\n",
    "* r2 coefficient is 0.7906 which is good result"
   ]
  },
  {
   "cell_type": "markdown",
   "metadata": {},
   "source": [
    "### Prediction of Tip on new Dataset"
   ]
  },
  {
   "cell_type": "markdown",
   "metadata": {},
   "source": [
    "### Steps:\n",
    "* To predict tip for new dataset, we first predict if the transaction has tip using Classification model\n",
    "* If the transaction has tip, we predict tip percentage using Regression model"
   ]
  },
  {
   "cell_type": "code",
   "execution_count": 55,
   "metadata": {
    "collapsed": true
   },
   "outputs": [],
   "source": [
    "def predict_tip(transaction):\n",
    "    reg_predictors = ['Total_amount','Trip_distance', 'tripduration', 'speed','Shift_type']  \n",
    "    has_tip = transaction['With_tip'] # classify transactions  \n",
    "    return has_tip*gs_rfr.best_estimator_.predict(transaction[reg_predictors]) ## predict tips for those transactions classified as 1"
   ]
  },
  {
   "cell_type": "code",
   "execution_count": 56,
   "metadata": {
    "collapsed": false
   },
   "outputs": [
    {
     "name": "stdout",
     "output_type": "stream",
     "text": [
      "final mean_squared_error: 7.91422510895\n",
      "final r2_score: 0.883556961312\n"
     ]
    }
   ],
   "source": [
    "test1 = df.loc[np.random.choice(df.index,size = 100000,replace=False)]\n",
    "ypred = predict_tip(test1)\n",
    "print(\"final mean_squared_error:\", mean_squared_error(ypred,test1['tip_derived(%)']))\n",
    "print(\"final r2_score:\", r2_score(ypred,test1['tip_derived(%)']))"
   ]
  },
  {
   "cell_type": "markdown",
   "metadata": {},
   "source": [
    "#### Analysis\n",
    "* The mean square error was used as a valuation metric\n",
    "* mean square error on the same training dataset is: 9.1228\n",
    "* r2 coefficient is 0.864 which is good result even compared to performance on training dataset"
   ]
  },
  {
   "cell_type": "markdown",
   "metadata": {},
   "source": [
    "## Question 5 - Option A: Distributions"
   ]
  },
  {
   "cell_type": "markdown",
   "metadata": {},
   "source": [
    "### Build a derived variable representing the average speed over the course of a trip."
   ]
  },
  {
   "cell_type": "code",
   "execution_count": 57,
   "metadata": {
    "collapsed": true
   },
   "outputs": [],
   "source": [
    "#get original dataframe with all the columns\n",
    "df_q5 = df_backup"
   ]
  },
  {
   "cell_type": "code",
   "execution_count": 58,
   "metadata": {
    "collapsed": false
   },
   "outputs": [],
   "source": [
    "#add a variable named Week\n",
    "import datetime as dt\n",
    "ref_week = dt.datetime(2015,9,1).isocalendar()[1]\n",
    "df_q5['Week'] = df_q5.lpep_pickup_datetime.apply(lambda x:x.isocalendar()[1])-ref_week+1"
   ]
  },
  {
   "cell_type": "code",
   "execution_count": 59,
   "metadata": {
    "collapsed": false
   },
   "outputs": [
    {
     "data": {
      "text/html": [
       "<div>\n",
       "<style>\n",
       "    .dataframe thead tr:only-child th {\n",
       "        text-align: right;\n",
       "    }\n",
       "\n",
       "    .dataframe thead th {\n",
       "        text-align: left;\n",
       "    }\n",
       "\n",
       "    .dataframe tbody tr th {\n",
       "        vertical-align: top;\n",
       "    }\n",
       "</style>\n",
       "<table border=\"1\" class=\"dataframe\">\n",
       "  <thead>\n",
       "    <tr style=\"text-align: right;\">\n",
       "      <th></th>\n",
       "      <th>speed</th>\n",
       "    </tr>\n",
       "    <tr>\n",
       "      <th>Week</th>\n",
       "      <th></th>\n",
       "    </tr>\n",
       "  </thead>\n",
       "  <tbody>\n",
       "    <tr>\n",
       "      <th>1</th>\n",
       "      <td>15.961956</td>\n",
       "    </tr>\n",
       "    <tr>\n",
       "      <th>2</th>\n",
       "      <td>15.331127</td>\n",
       "    </tr>\n",
       "    <tr>\n",
       "      <th>3</th>\n",
       "      <td>15.272121</td>\n",
       "    </tr>\n",
       "    <tr>\n",
       "      <th>4</th>\n",
       "      <td>16.184089</td>\n",
       "    </tr>\n",
       "    <tr>\n",
       "      <th>5</th>\n",
       "      <td>16.957673</td>\n",
       "    </tr>\n",
       "  </tbody>\n",
       "</table>\n",
       "</div>"
      ],
      "text/plain": [
       "          speed\n",
       "Week           \n",
       "1     15.961956\n",
       "2     15.331127\n",
       "3     15.272121\n",
       "4     16.184089\n",
       "5     16.957673"
      ]
     },
     "execution_count": 59,
     "metadata": {},
     "output_type": "execute_result"
    }
   ],
   "source": [
    "#get mean of speed by week\n",
    "df_q5[['speed','Week']].groupby('Week').mean()"
   ]
  },
  {
   "cell_type": "code",
   "execution_count": 60,
   "metadata": {
    "collapsed": false
   },
   "outputs": [
    {
     "data": {
      "image/png": "[encoded data removed]",
      "text/plain": [
       "<matplotlib.figure.Figure at 0x11099bac8>"
      ]
     },
     "metadata": {},
     "output_type": "display_data"
    }
   ],
   "source": [
    "# generate boxplot for all the weeks in September\n",
    "df_q5.boxplot('speed','Week')\n",
    "plt.ylim([0,28])\n",
    "plt.ylabel('Speed')\n",
    "plt.show()"
   ]
  },
  {
   "cell_type": "markdown",
   "metadata": {},
   "source": [
    "#### Analysis\n",
    "* The median speed in the weeks 2 and 3 is almost same. Weeks 1 and 4 have higher median speeds when compared to weeks 2 and 3 and week 5 has lower median average speed"
   ]
  },
  {
   "cell_type": "markdown",
   "metadata": {},
   "source": [
    "#### Perform T-test to see if all the weeks have same average speed\n",
    "\n",
    "Hypothesis: The mean values for two weeks are same\n",
    "* We perform this analysis for all combinations of weeks to see which weeks have same average speed\n"
   ]
  },
  {
   "cell_type": "code",
   "execution_count": 65,
   "metadata": {
    "collapsed": false
   },
   "outputs": [
    {
     "name": "stdout",
     "output_type": "stream",
     "text": [
      "w1         1         2         3         4         5\n",
      "w2                                                  \n",
      "1   1.000000  0.045184  0.026058  0.538500  0.534246\n",
      "2   0.045184  1.000000  0.845573  0.016311  0.309553\n",
      "3   0.026058  0.845573  1.000000  0.009317  0.292038\n",
      "4   0.538500  0.016311  0.009317  1.000000  0.630966\n",
      "5   0.534246  0.309553  0.292038  0.630966  1.000000\n"
     ]
    }
   ],
   "source": [
    "from scipy.stats import ttest_ind, ttest_ind_from_stats,f_oneway\n",
    "weeks = pd.unique(df_q5.Week)\n",
    "pvals = []\n",
    "for i in range(len(weeks)): # for each pair, run t-test\n",
    "    for j in range(len(weeks)):\n",
    "        pvals.append((weeks[i], weeks[j],ttest_ind(df_q5[df_q5.Week==weeks[i]].speed,df_q5[df_q5.Week==weeks[j]].speed,equal_var=False)[1]))\n",
    "    \n",
    "pvalues = pd.DataFrame(pvals,columns=['w1','w2','pval'])\n",
    "print(pvalues.pivot_table(index='w1',columns='w2',values='pval').T)"
   ]
  },
  {
   "cell_type": "markdown",
   "metadata": {},
   "source": [
    "#### Analysis\n",
    "Weeks 2 and 3 have higher p values which means they have same average speeds"
   ]
  },
  {
   "cell_type": "code",
   "execution_count": 66,
   "metadata": {
    "collapsed": false
   },
   "outputs": [
    {
     "name": "stdout",
     "output_type": "stream",
     "text": [
      "F Test: F_onewayResult(statistic=6.7012896076135808, pvalue=2.1455628539747737e-21)\n"
     ]
    }
   ],
   "source": [
    "# calculate anova\n",
    "hours = range(24)\n",
    "ftest = \"f_oneway(\"\n",
    "for h in hours:\n",
    "    ftest+=\"df_q5[df_q5.pickuptime_hour==\"+str(h)+\"].speed,\"\n",
    "ftest=ftest[:-1]+\")\"\n",
    "print(\"F Test:\", eval(ftest)) #evaluate the command and print"
   ]
  },
  {
   "cell_type": "markdown",
   "metadata": {},
   "source": [
    "#### Analysis"
   ]
  },
  {
   "cell_type": "code",
   "execution_count": 67,
   "metadata": {
    "collapsed": false
   },
   "outputs": [
    {
     "data": {
      "image/png": "[encoded data removed]",
      "text/plain": [
       "<matplotlib.figure.Figure at 0x10e6a5c50>"
      ]
     },
     "metadata": {},
     "output_type": "display_data"
    }
   ],
   "source": [
    "# boxplot\n",
    "df_q5.boxplot('speed','pickuptime_hour')\n",
    "plt.ylim([5,24])\n",
    "plt.ylabel('Speed')\n",
    "plt.show()"
   ]
  },
  {
   "cell_type": "markdown",
   "metadata": {},
   "source": [
    "## Improvements which can be done"
   ]
  },
  {
   "cell_type": "markdown",
   "metadata": {},
   "source": [
    "* During Tip Percentage prediction, I can use statistical methods to find relationship between features to find if ther are important for our analysis\n",
    "* Also histogram of tip percentage with respect to each feature helps to understand their influence on target variable\n",
    "* I can even use Latitudes and Longitues to understand area the taxi travelled and extract demographic related analysis\n",
    "* Right now, I have limited my dataset size because of computational issues and time, but using BigData technologies like Spark we can use entire data for our analysis which might produce even better results"
   ]
  },
  {
   "cell_type": "code",
   "execution_count": null,
   "metadata": {
    "collapsed": true
   },
   "outputs": [],
   "source": []
  }
 ],
 "metadata": {
  "kernelspec": {
   "display_name": "Python 3",
   "language": "python",
   "name": "python3"
  },
  "language_info": {
   "codemirror_mode": {
    "name": "ipython",
    "version": 3
   },
   "file_extension": ".py",
   "mimetype": "text/x-python",
   "name": "python",
   "nbconvert_exporter": "python",
   "pygments_lexer": "ipython3",
   "version": "3.4.5"
  }
 },
 "nbformat": 4,
 "nbformat_minor": 2
}
